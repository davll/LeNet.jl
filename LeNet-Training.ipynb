{
 "cells": [
  {
   "cell_type": "code",
   "execution_count": 1,
   "metadata": {},
   "outputs": [
    {
     "name": "stdout",
     "output_type": "stream",
     "text": [
      "\u001b[32m\u001b[1mActivating\u001b[22m\u001b[39m environment at `~/LeNet.jl/jupyter/Project.toml`\n",
      "\u001b[32m\u001b[1m  Updating\u001b[22m\u001b[39m registry at `~/.julia/registries/General`\n",
      "\u001b[32m\u001b[1m  Updating\u001b[22m\u001b[39m git-repo `https://github.com/JuliaRegistries/General.git`\n",
      "\u001b[?25l\u001b[2K\u001b[?25h"
     ]
    }
   ],
   "source": [
    "import Pkg\n",
    "Pkg.activate(\"jupyter\")\n",
    "Pkg.instantiate()"
   ]
  },
  {
   "cell_type": "code",
   "execution_count": 2,
   "metadata": {},
   "outputs": [
    {
     "data": {
      "text/plain": [
       "KnetArray{Float32,N} where N"
      ]
     },
     "execution_count": 2,
     "metadata": {},
     "output_type": "execute_result"
    }
   ],
   "source": [
    "using Images\n",
    "using Knet\n",
    "\n",
    "if Knet.gpu() >= 0\n",
    "    ATYPE = KnetArray{Float32}\n",
    "else\n",
    "    ATYPE = Array{Float32}\n",
    "end\n",
    "ATYPE"
   ]
  },
  {
   "cell_type": "code",
   "execution_count": 3,
   "metadata": {},
   "outputs": [
    {
     "name": "stderr",
     "output_type": "stream",
     "text": [
      "┌ Info: Recompiling stale cache file /home/david.lin/.julia/compiled/v1.2/LeNet/7dzcS.ji for LeNet [59d537c7-900a-4367-85e8-51a37eacc432]\n",
      "└ @ Base loading.jl:1240\n"
     ]
    },
    {
     "name": "stdout",
     "output_type": "stream",
     "text": [
      "typeof(train_images) = PaddedViews.PaddedView{Float16,3,Tuple{Base.OneTo{Int64},Base.OneTo{Int64},Base.OneTo{Int64}},OffsetArrays.OffsetArray{Float16,3,Array{Float16,3}}}\n",
      "size(train_images) = (32, 32, 60000)\n",
      "typeof(train_labels) = Array{Int64,1}\n",
      "size(train_labels) = (60000,)\n",
      "typeof(train_scores) = Array{Float16,2}\n",
      "size(train_scores) = (10, 60000)\n"
     ]
    },
    {
     "data": {
      "text/plain": [
       "(10, 60000)"
      ]
     },
     "execution_count": 3,
     "metadata": {},
     "output_type": "execute_result"
    }
   ],
   "source": [
    "using LeNet.MNIST\n",
    "\n",
    "train_images, train_labels, train_scores = train_dataset(padding=2)\n",
    "test_images, test_labels, test_scores = test_dataset(padding=2)\n",
    "\n",
    "@show typeof(train_images)\n",
    "@show size(train_images)\n",
    "@show typeof(train_labels)\n",
    "@show size(train_labels)\n",
    "@show typeof(train_scores)\n",
    "@show size(train_scores)"
   ]
  },
  {
   "cell_type": "code",
   "execution_count": 4,
   "metadata": {},
   "outputs": [
    {
     "data": {
      "image/png": "[encoded data removed]",
      "text/plain": [
       "256×256 Array{Gray{Float16},2} with eltype Gray{Float16}:\n",
       " Gray{Float16}(0.0)  Gray{Float16}(0.0)  …  Gray{Float16}(0.0)\n",
       " Gray{Float16}(0.0)  Gray{Float16}(0.0)     Gray{Float16}(0.0)\n",
       " Gray{Float16}(0.0)  Gray{Float16}(0.0)     Gray{Float16}(0.0)\n",
       " Gray{Float16}(0.0)  Gray{Float16}(0.0)     Gray{Float16}(0.0)\n",
       " Gray{Float16}(0.0)  Gray{Float16}(0.0)     Gray{Float16}(0.0)\n",
       " Gray{Float16}(0.0)  Gray{Float16}(0.0)  …  Gray{Float16}(0.0)\n",
       " Gray{Float16}(0.0)  Gray{Float16}(0.0)     Gray{Float16}(0.0)\n",
       " Gray{Float16}(0.0)  Gray{Float16}(0.0)     Gray{Float16}(0.0)\n",
       " Gray{Float16}(0.0)  Gray{Float16}(0.0)     Gray{Float16}(0.0)\n",
       " Gray{Float16}(0.0)  Gray{Float16}(0.0)     Gray{Float16}(0.0)\n",
       " Gray{Float16}(0.0)  Gray{Float16}(0.0)  …  Gray{Float16}(0.0)\n",
       " Gray{Float16}(0.0)  Gray{Float16}(0.0)     Gray{Float16}(0.0)\n",
       " Gray{Float16}(0.0)  Gray{Float16}(0.0)     Gray{Float16}(0.0)\n",
       " ⋮                                       ⋱  ⋮                 \n",
       " Gray{Float16}(0.0)  Gray{Float16}(0.0)     Gray{Float16}(0.0)\n",
       " Gray{Float16}(0.0)  Gray{Float16}(0.0)  …  Gray{Float16}(0.0)\n",
       " Gray{Float16}(0.0)  Gray{Float16}(0.0)     Gray{Float16}(0.0)\n",
       " Gray{Float16}(0.0)  Gray{Float16}(0.0)     Gray{Float16}(0.0)\n",
       " Gray{Float16}(0.0)  Gray{Float16}(0.0)     Gray{Float16}(0.0)\n",
       " Gray{Float16}(0.0)  Gray{Float16}(0.0)     Gray{Float16}(0.0)\n",
       " Gray{Float16}(0.0)  Gray{Float16}(0.0)  …  Gray{Float16}(0.0)\n",
       " Gray{Float16}(0.0)  Gray{Float16}(0.0)     Gray{Float16}(0.0)\n",
       " Gray{Float16}(0.0)  Gray{Float16}(0.0)     Gray{Float16}(0.0)\n",
       " Gray{Float16}(0.0)  Gray{Float16}(0.0)     Gray{Float16}(0.0)\n",
       " Gray{Float16}(0.0)  Gray{Float16}(0.0)     Gray{Float16}(0.0)\n",
       " Gray{Float16}(0.0)  Gray{Float16}(0.0)  …  Gray{Float16}(0.0)"
      ]
     },
     "metadata": {},
     "output_type": "display_data"
    }
   ],
   "source": [
    "tensor = train_images;\n",
    "vcat([hcat([tensor[:,:,(i-1)*8+j] .|> Gray for j=1:8]...) for i=1:8]...) |> display"
   ]
  },
  {
   "cell_type": "code",
   "execution_count": 5,
   "metadata": {},
   "outputs": [
    {
     "data": {
      "text/plain": [
       "120"
      ]
     },
     "execution_count": 5,
     "metadata": {},
     "output_type": "execute_result"
    }
   ],
   "source": [
    "# prepare testing batches\n",
    "train_data_chk = minibatch(train_images, train_labels, 5000; xtype=ATYPE);\n",
    "test_data_chk = minibatch(test_images, test_labels, 5000; xtype=ATYPE);\n",
    "\n",
    "# prepare training batches\n",
    "train_batches = minibatch(train_images, train_scores, 500; xtype=ATYPE, ytype=ATYPE);\n",
    "num_batches = div(size(train_images,3), 500)"
   ]
  },
  {
   "cell_type": "code",
   "execution_count": 6,
   "metadata": {},
   "outputs": [
    {
     "data": {
      "text/plain": [
       "LeNet5(P(KnetArray{Float32,4}(5,5,1,6)), P(KnetArray{Float32,4}(1,1,6,1)), P(KnetArray{Float32,4}(5,5,6,16)), P(KnetArray{Float32,4}(1,1,16,1)), P(KnetArray{Float32,4}(5,5,16,120)), P(KnetArray{Float32,4}(1,1,120,1)), P(KnetArray{Float32,2}(84,120)), P(KnetArray{Float32,1}(84)), P(KnetArray{Float32,2}(10,84)), P(KnetArray{Float32,1}(10)))"
      ]
     },
     "execution_count": 6,
     "metadata": {},
     "output_type": "execute_result"
    }
   ],
   "source": [
    "using LeNet, IterTools, Printf\n",
    "\n",
    "# new model\n",
    "model = LeNet5()"
   ]
  },
  {
   "cell_type": "code",
   "execution_count": 7,
   "metadata": {},
   "outputs": [
    {
     "name": "stdout",
     "output_type": "stream",
     "text": [
      "last(model(convert(ATYPE, train_images[:, :, 1:1]))) = K32(10,1)[0.09051789⋯]\n"
     ]
    },
    {
     "data": {
      "text/plain": [
       "10×1 KnetArray{Float32,2}:\n",
       " 0.09051789 \n",
       " 0.09824963 \n",
       " 0.10313971 \n",
       " 0.097146004\n",
       " 0.09782959 \n",
       " 0.10080274 \n",
       " 0.10544741 \n",
       " 0.10385446 \n",
       " 0.10278056 \n",
       " 0.10023204 "
      ]
     },
     "execution_count": 7,
     "metadata": {},
     "output_type": "execute_result"
    }
   ],
   "source": [
    "@show last(model(convert(ATYPE, train_images[:,:,1:1])))"
   ]
  },
  {
   "cell_type": "code",
   "execution_count": 8,
   "metadata": {},
   "outputs": [
    {
     "name": "stdout",
     "output_type": "stream",
     "text": [
      "[Before Training]\n",
      "accuracy(train_data) = 3.573333 %\n",
      "accuracy(test_data) = 3.290000 %\n",
      "[Training...]\n",
      "┣████████████████████┫ [100.00%, 30720/30720, 09:42/09:42, 52.83i/s] \n",
      "[After Training]\n",
      "accuracy(train_data) = 98.183333 %\n",
      "accuracy(test_data) = 98.110000 %\n",
      "length(acc_train) = 257\n"
     ]
    },
    {
     "data": {
      "text/plain": [
       "257"
      ]
     },
     "execution_count": 8,
     "metadata": {},
     "output_type": "execute_result"
    }
   ],
   "source": [
    "acc_train = [accuracy(x -> last(model(x)), train_data_chk)]\n",
    "acc_test = [accuracy(x -> last(model(x)), test_data_chk)]\n",
    "\n",
    "@printf \"[Before Training]\\n\"\n",
    "@printf \"accuracy(train_data) = %f %%\\n\" acc_train[end]*100\n",
    "@printf \"accuracy(test_data) = %f %%\\n\" acc_test[end]*100\n",
    "\n",
    "@printf \"[Training...]\\n\"\n",
    "#adam(model, ncycle(train_batches, 12); lr=0.001) |> progress!\n",
    "for (i, dx) in enumerate(fit(model, ncycle(train_batches, 256)) |> progress)\n",
    "    if i % num_batches == 0\n",
    "        push!(acc_train, accuracy(x -> last(model(x)), train_data_chk))\n",
    "        push!(acc_test, accuracy(x -> last(model(x)), test_data_chk))\n",
    "    end\n",
    "end\n",
    "\n",
    "@printf \"[After Training]\\n\"\n",
    "@printf \"accuracy(train_data) = %f %%\\n\" acc_train[end]*100\n",
    "@printf \"accuracy(test_data) = %f %%\\n\" acc_test[end]*100\n",
    "@show length(acc_train)"
   ]
  },
  {
   "cell_type": "code",
   "execution_count": 9,
   "metadata": {},
   "outputs": [
    {
     "data": {
      "text/plain": [
       "257-element Array{Float64,1}:\n",
       " 0.0329\n",
       " 0.398 \n",
       " 0.6475\n",
       " 0.6864\n",
       " 0.7129\n",
       " 0.7992\n",
       " 0.8435\n",
       " 0.8598\n",
       " 0.8711\n",
       " 0.8751\n",
       " 0.8789\n",
       " 0.884 \n",
       " 0.8877\n",
       " ⋮     \n",
       " 0.9806\n",
       " 0.9807\n",
       " 0.9808\n",
       " 0.9808\n",
       " 0.9808\n",
       " 0.9808\n",
       " 0.9808\n",
       " 0.9808\n",
       " 0.9808\n",
       " 0.9809\n",
       " 0.981 \n",
       " 0.9811"
      ]
     },
     "execution_count": 9,
     "metadata": {},
     "output_type": "execute_result"
    }
   ],
   "source": [
    "# save model\n",
    "path = \"LeNet5-model.jld2\"\n",
    "save_model(path, model)\n",
    "\n",
    "using JLD2, FileIO\n",
    "\n",
    "# save training record\n",
    "path = \"LeNet5-training.jld2\"\n",
    "jldopen(path, \"w\") do file\n",
    "    file[\"lenet5/training/acc_train\"] = acc_train\n",
    "    file[\"lenet5/training/acc_test\"] = acc_test\n",
    "end"
   ]
  },
  {
   "cell_type": "raw",
   "metadata": {},
   "source": []
  }
 ],
 "metadata": {
  "kernelspec": {
   "display_name": "Julia 1.2.0",
   "language": "julia",
   "name": "julia-1.2"
  },
  "language_info": {
   "file_extension": ".jl",
   "mimetype": "application/julia",
   "name": "julia",
   "version": "1.2.0"
  }
 },
 "nbformat": 4,
 "nbformat_minor": 4
}
