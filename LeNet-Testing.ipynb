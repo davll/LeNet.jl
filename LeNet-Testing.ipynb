{
 "cells": [
  {
   "cell_type": "code",
   "execution_count": 1,
   "metadata": {},
   "outputs": [
    {
     "name": "stdout",
     "output_type": "stream",
     "text": [
      "\u001b[32m\u001b[1mActivating\u001b[22m\u001b[39m environment at `~/LeNet.jl/jupyter/Project.toml`\n",
      "\u001b[32m\u001b[1m  Updating\u001b[22m\u001b[39m registry at `~/.julia/registries/General`\n",
      "\u001b[32m\u001b[1m  Updating\u001b[22m\u001b[39m git-repo `https://github.com/JuliaRegistries/General.git`\n",
      "\u001b[?25l\u001b[2K\u001b[?25h"
     ]
    }
   ],
   "source": [
    "import Pkg\n",
    "Pkg.activate(\"jupyter\")\n",
    "Pkg.instantiate()"
   ]
  },
  {
   "cell_type": "code",
   "execution_count": 2,
   "metadata": {},
   "outputs": [
    {
     "data": {
      "text/plain": [
       "KnetArray{Float32,N} where N"
      ]
     },
     "execution_count": 2,
     "metadata": {},
     "output_type": "execute_result"
    }
   ],
   "source": [
    "using Images\n",
    "using Knet\n",
    "\n",
    "if Knet.gpu() >= 0\n",
    "    ATYPE = KnetArray{Float32}\n",
    "    to_nn = gpucopy\n",
    "else\n",
    "    ATYPE = Array{Float32}\n",
    "    to_nn = identity\n",
    "end\n",
    "ATYPE"
   ]
  },
  {
   "cell_type": "code",
   "execution_count": 3,
   "metadata": {},
   "outputs": [
    {
     "name": "stdout",
     "output_type": "stream",
     "text": [
      "typeof(train_images) = PaddedViews.PaddedView{Float16,3,Tuple{Base.OneTo{Int64},Base.OneTo{Int64},Base.OneTo{Int64}},OffsetArrays.OffsetArray{Float16,3,Array{Float16,3}}}\n",
      "size(train_images) = (32, 32, 60000)\n",
      "typeof(train_labels) = Array{Int64,1}\n",
      "size(train_labels) = (60000,)\n"
     ]
    }
   ],
   "source": [
    "using LeNet.MNIST\n",
    "\n",
    "train_images, train_labels, _ = train_dataset(padding=2)\n",
    "test_images, test_labels, _ = test_dataset(padding=2)\n",
    "\n",
    "@show typeof(train_images)\n",
    "@show size(train_images)\n",
    "@show typeof(train_labels)\n",
    "@show size(train_labels)\n",
    "\n",
    "# prepare testing batches\n",
    "train_data_chk = minibatch(train_images, train_labels, 5000; xtype=ATYPE);\n",
    "test_data_chk = minibatch(test_images, test_labels, 5000; xtype=ATYPE);"
   ]
  },
  {
   "cell_type": "code",
   "execution_count": 4,
   "metadata": {},
   "outputs": [
    {
     "name": "stdout",
     "output_type": "stream",
     "text": [
      "accuracy(train_data) = 98.185000 %\n",
      "accuracy(test_data) = 98.070000 %\n"
     ]
    }
   ],
   "source": [
    "using LeNet, Printf\n",
    "\n",
    "model = load_model(LeNet5, \"LeNet5-model.jld2\")\n",
    "\n",
    "@printf \"accuracy(train_data) = %f %%\\n\" (accuracy(model, train_data_chk)*100)\n",
    "@printf \"accuracy(test_data) = %f %%\\n\" (accuracy(model, test_data_chk)*100)"
   ]
  },
  {
   "cell_type": "code",
   "execution_count": 5,
   "metadata": {},
   "outputs": [
    {
     "data": {
      "image/png": "[encoded data removed]",
      "text/plain": [
       "32×320 Array{Gray{Float16},2} with eltype Gray{Float16}:\n",
       " Gray{Float16}(0.0)  Gray{Float16}(0.0)  …  Gray{Float16}(0.0)\n",
       " Gray{Float16}(0.0)  Gray{Float16}(0.0)     Gray{Float16}(0.0)\n",
       " Gray{Float16}(0.0)  Gray{Float16}(0.0)     Gray{Float16}(0.0)\n",
       " Gray{Float16}(0.0)  Gray{Float16}(0.0)     Gray{Float16}(0.0)\n",
       " Gray{Float16}(0.0)  Gray{Float16}(0.0)     Gray{Float16}(0.0)\n",
       " Gray{Float16}(0.0)  Gray{Float16}(0.0)  …  Gray{Float16}(0.0)\n",
       " Gray{Float16}(0.0)  Gray{Float16}(0.0)     Gray{Float16}(0.0)\n",
       " Gray{Float16}(0.0)  Gray{Float16}(0.0)     Gray{Float16}(0.0)\n",
       " Gray{Float16}(0.0)  Gray{Float16}(0.0)     Gray{Float16}(0.0)\n",
       " Gray{Float16}(0.0)  Gray{Float16}(0.0)     Gray{Float16}(0.0)\n",
       " Gray{Float16}(0.0)  Gray{Float16}(0.0)  …  Gray{Float16}(0.0)\n",
       " Gray{Float16}(0.0)  Gray{Float16}(0.0)     Gray{Float16}(0.0)\n",
       " Gray{Float16}(0.0)  Gray{Float16}(0.0)     Gray{Float16}(0.0)\n",
       " ⋮                                       ⋱                    \n",
       " Gray{Float16}(0.0)  Gray{Float16}(0.0)  …  Gray{Float16}(0.0)\n",
       " Gray{Float16}(0.0)  Gray{Float16}(0.0)     Gray{Float16}(0.0)\n",
       " Gray{Float16}(0.0)  Gray{Float16}(0.0)     Gray{Float16}(0.0)\n",
       " Gray{Float16}(0.0)  Gray{Float16}(0.0)     Gray{Float16}(0.0)\n",
       " Gray{Float16}(0.0)  Gray{Float16}(0.0)     Gray{Float16}(0.0)\n",
       " Gray{Float16}(0.0)  Gray{Float16}(0.0)  …  Gray{Float16}(0.0)\n",
       " Gray{Float16}(0.0)  Gray{Float16}(0.0)     Gray{Float16}(0.0)\n",
       " Gray{Float16}(0.0)  Gray{Float16}(0.0)     Gray{Float16}(0.0)\n",
       " Gray{Float16}(0.0)  Gray{Float16}(0.0)     Gray{Float16}(0.0)\n",
       " Gray{Float16}(0.0)  Gray{Float16}(0.0)     Gray{Float16}(0.0)\n",
       " Gray{Float16}(0.0)  Gray{Float16}(0.0)  …  Gray{Float16}(0.0)\n",
       " Gray{Float16}(0.0)  Gray{Float16}(0.0)     Gray{Float16}(0.0)"
      ]
     },
     "metadata": {},
     "output_type": "display_data"
    },
    {
     "data": {
      "text/plain": [
       "\"0, 1, 7, 4, 1, 9, 9, 3, 3, 3\""
      ]
     },
     "execution_count": 5,
     "metadata": {},
     "output_type": "execute_result"
    }
   ],
   "source": [
    "n = size(test_images)[end]\n",
    "idx = rand(1:n, 10)\n",
    "\n",
    "hcat([test_images[:,:,i] .|> Gray for i in idx]...) |> display\n",
    "\n",
    "join([string(model(test_images[:,:,i:i] .|> Float32 |> to_nn) |> argmax |> x -> x[1]%10) for i in idx], \", \")"
   ]
  },
  {
   "cell_type": "code",
   "execution_count": 6,
   "metadata": {},
   "outputs": [
    {
     "data": {
      "text/plain": [
       "([0.046283333333333336, 0.44333333333333336, 0.63895, 0.6891333333333334, 0.7062666666666667, 0.7613, 0.8035833333333333, 0.82635, 0.8428166666666667, 0.8547333333333333  …  0.9813833333333334, 0.9814166666666667, 0.9814833333333334, 0.98155, 0.9815833333333334, 0.9816666666666667, 0.9817, 0.9817666666666667, 0.9818, 0.98185], [0.0449, 0.4494, 0.6418, 0.6952, 0.7172, 0.7727, 0.8136, 0.8345, 0.8521, 0.8628  …  0.9803, 0.9803, 0.9804, 0.9804, 0.9804, 0.9803, 0.9804, 0.9805, 0.9807, 0.9807])"
      ]
     },
     "execution_count": 6,
     "metadata": {},
     "output_type": "execute_result"
    }
   ],
   "source": [
    "using JLD2, FileIO\n",
    "\n",
    "path = \"LeNet5-training.jld2\"\n",
    "acc_train, acc_test = jldopen(path, \"r\") do file\n",
    "    acc_train = file[\"lenet5/training/acc_train\"]\n",
    "    acc_test = file[\"lenet5/training/acc_test\"]\n",
    "    (acc_train, acc_test)\n",
    "end"
   ]
  },
  {
   "cell_type": "code",
   "execution_count": 7,
   "metadata": {},
   "outputs": [
    {
     "data": {
      "image/png": "[encoded data removed]",
      "text/plain": [
       "Figure(PyObject <Figure size 640x480 with 1 Axes>)"
      ]
     },
     "metadata": {},
     "output_type": "display_data"
    },
    {
     "data": {
      "text/plain": [
       "(0.0, 1.0)"
      ]
     },
     "execution_count": 7,
     "metadata": {},
     "output_type": "execute_result"
    }
   ],
   "source": [
    "using PyPlot\n",
    "\n",
    "plot(acc_train, label=\"train\")\n",
    "plot(acc_test, label=\"test\")\n",
    "grid(true)\n",
    "legend()\n",
    "xlabel(\"epoch\")\n",
    "ylabel(\"accuracy\")\n",
    "ylim(0.0, 1.0)"
   ]
  },
  {
   "cell_type": "code",
   "execution_count": null,
   "metadata": {},
   "outputs": [],
   "source": []
  }
 ],
 "metadata": {
  "kernelspec": {
   "display_name": "Julia 1.2.0",
   "language": "julia",
   "name": "julia-1.2"
  },
  "language_info": {
   "file_extension": ".jl",
   "mimetype": "application/julia",
   "name": "julia",
   "version": "1.2.0"
  }
 },
 "nbformat": 4,
 "nbformat_minor": 4
}
